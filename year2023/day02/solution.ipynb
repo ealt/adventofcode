{
 "cells": [
  {
   "cell_type": "code",
   "execution_count": 9,
   "metadata": {},
   "outputs": [],
   "source": [
    "import re\n",
    "from collections import Counter\n",
    "from typing import Iterable, Iterator"
   ]
  },
  {
   "cell_type": "code",
   "execution_count": 44,
   "metadata": {},
   "outputs": [],
   "source": [
    "input = \"\"\"Game 1: 3 blue, 4 red; 1 red, 2 green, 6 blue; 2 green\n",
    "Game 2: 1 blue, 2 green; 3 green, 4 blue, 1 red; 1 green, 1 blue\n",
    "Game 3: 8 green, 6 blue, 20 red; 5 blue, 4 red, 13 green; 5 green, 1 red\n",
    "Game 4: 1 green, 3 red, 6 blue; 3 green, 6 red; 3 green, 15 blue, 14 red\n",
    "Game 5: 6 red, 1 blue, 3 green; 2 blue, 1 red, 2 green\n",
    "\"\"\"\n",
    "\n",
    "lines = input.split(\"\\n\")[:-1]"
   ]
  },
  {
   "cell_type": "code",
   "execution_count": 45,
   "metadata": {},
   "outputs": [
    {
     "name": "stdout",
     "output_type": "stream",
     "text": [
      "Game 1: 3 blue, 4 red; 1 red, 2 green, 6 blue; 2 green\n",
      "Game 2: 1 blue, 2 green; 3 green, 4 blue, 1 red; 1 green, 1 blue\n",
      "Game 3: 8 green, 6 blue, 20 red; 5 blue, 4 red, 13 green; 5 green, 1 red\n",
      "Game 4: 1 green, 3 red, 6 blue; 3 green, 6 red; 3 green, 15 blue, 14 red\n",
      "Game 5: 6 red, 1 blue, 3 green; 2 blue, 1 red, 2 green\n"
     ]
    }
   ],
   "source": [
    "for line in lines:\n",
    "    print(line)"
   ]
  },
  {
   "cell_type": "code",
   "execution_count": 36,
   "metadata": {},
   "outputs": [],
   "source": [
    "MIN_THRESHOLD = 12"
   ]
  },
  {
   "cell_type": "code",
   "execution_count": 20,
   "metadata": {},
   "outputs": [],
   "source": [
    "COUNT_PATTERN = rf\"(\\d+) (red|green|blue)\"\n",
    "REVEAL_PATTERN = rf\"{COUNT_PATTERN}(?:, {COUNT_PATTERN})*\"\n",
    "GAME_PATTERN = rf\"Game (?P<id>\\d+): {REVEAL_PATTERN}(?:; {REVEAL_PATTERN})*\""
   ]
  },
  {
   "cell_type": "code",
   "execution_count": 39,
   "metadata": {},
   "outputs": [],
   "source": [
    "def get_counts(reveal: str) -> Counter:\n",
    "    counts = Counter()\n",
    "    for count in re.finditer(COUNT_PATTERN, reveal):\n",
    "        color = count.group(2)\n",
    "        quantity = int(count.group(1))\n",
    "        counts[color] = quantity\n",
    "    return counts"
   ]
  },
  {
   "cell_type": "code",
   "execution_count": 40,
   "metadata": {},
   "outputs": [
    {
     "data": {
      "text/plain": [
       "Counter({'blue': 4, 'green': 3, 'red': 1})"
      ]
     },
     "execution_count": 40,
     "metadata": {},
     "output_type": "execute_result"
    }
   ],
   "source": [
    "get_counts(\"3 green, 4 blue, 1 red\")"
   ]
  },
  {
   "cell_type": "code",
   "execution_count": 41,
   "metadata": {},
   "outputs": [],
   "source": [
    "def is_possible(line: str) -> bool:\n",
    "    min_threshold = MIN_THRESHOLD\n",
    "    min_counts = Counter()\n",
    "    for reveal in re.finditer(REVEAL_PATTERN, line):\n",
    "        counts = get_counts(reveal.group())\n",
    "        min_counts |= counts\n",
    "    min_total = min_counts.total()\n",
    "    return min_total <= min_threshold"
   ]
  },
  {
   "cell_type": "code",
   "execution_count": 47,
   "metadata": {},
   "outputs": [
    {
     "name": "stdout",
     "output_type": "stream",
     "text": [
      "1 is possible\n",
      "2 is possible\n",
      "3 is impossible\n",
      "4 is impossible\n",
      "5 is possible\n"
     ]
    }
   ],
   "source": [
    "for id, line in enumerate(lines, start=1):\n",
    "    result = 'possible' if is_possible(line) else 'impossible'\n",
    "    print(f'{id} is {result}')"
   ]
  },
  {
   "cell_type": "code",
   "execution_count": 54,
   "metadata": {},
   "outputs": [],
   "source": [
    "def get_possible_ids(lines: Iterable[str]) -> Iterator[int]:\n",
    "    for line in lines:\n",
    "        match = re.match(GAME_PATTERN, line)\n",
    "        if match and is_possible(line):\n",
    "            yield int(match.group(\"id\"))"
   ]
  },
  {
   "cell_type": "code",
   "execution_count": 55,
   "metadata": {},
   "outputs": [],
   "source": [
    "def main(lines: Iterable[str]) -> None:\n",
    "    return sum(get_possible_ids(lines))"
   ]
  },
  {
   "cell_type": "code",
   "execution_count": 56,
   "metadata": {},
   "outputs": [
    {
     "data": {
      "text/plain": [
       "8"
      ]
     },
     "execution_count": 56,
     "metadata": {},
     "output_type": "execute_result"
    }
   ],
   "source": [
    "main(lines)"
   ]
  },
  {
   "cell_type": "code",
   "execution_count": null,
   "metadata": {},
   "outputs": [],
   "source": []
  }
 ],
 "metadata": {
  "kernelspec": {
   "display_name": "localai",
   "language": "python",
   "name": "python3"
  },
  "language_info": {
   "codemirror_mode": {
    "name": "ipython",
    "version": 3
   },
   "file_extension": ".py",
   "mimetype": "text/x-python",
   "name": "python",
   "nbconvert_exporter": "python",
   "pygments_lexer": "ipython3",
   "version": "3.11.5"
  }
 },
 "nbformat": 4,
 "nbformat_minor": 2
}
